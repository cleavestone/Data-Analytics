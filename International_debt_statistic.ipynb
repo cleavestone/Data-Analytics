{
 "cells": [
  {
   "cell_type": "markdown",
   "id": "09fb5007",
   "metadata": {},
   "source": [
    "## World Debt Statistics Analysis"
   ]
  },
  {
   "cell_type": "markdown",
   "id": "109de5cb",
   "metadata": {},
   "source": [
    "World Debt statistics dataset contains information about countries Debt , debt indicator and indicator code. \n",
    "In this project we shall use our dataset to answer questions below using SQL for querying database and Python for visualization\n",
    "\n",
    "1. Exploring the World Bank’s international debt data.\n",
    "\n",
    "2. Determining the number of distinct countries in the dataset.\n",
    "\n",
    "3. Identifying the distinct debt indicators present in the dataset.\n",
    "\n",
    "4. Calculating the total amount of debt owed by the countries.\n",
    "\n",
    "5. Identifying the top 10 countries with the highest debt and examining the corresponding amount.\n",
    "\n",
    "6. Calculating the average amount of debt across different debt indicators.\n",
    "\n",
    "7. Determining the highest amount of principal repayments recorded.\n",
    "\n",
    "8. Identifying the most common debt indicator.\n",
    "\n",
    "dataset: https://github.com/cleavestone/Data-Analytics/blob/main/International_debt%20dataset.csv.  \n"
   ]
  },
  {
   "cell_type": "code",
   "execution_count": 1,
   "id": "d92a566a",
   "metadata": {},
   "outputs": [],
   "source": [
    "#loading dependancies\n",
    "import pandas as pd\n",
    "import matplotlib.pyplot as plt\n",
    "import matplotlib.style as styles\n",
    "styles.use(\"ggplot\")\n",
    "import mysql.connector"
   ]
  },
  {
   "cell_type": "markdown",
   "id": "6c9f6db7",
   "metadata": {},
   "source": [
    "## Create Connection"
   ]
  },
  {
   "cell_type": "code",
   "execution_count": 2,
   "id": "d4decb6b",
   "metadata": {},
   "outputs": [
    {
     "name": "stdout",
     "output_type": "stream",
     "text": [
      "<mysql.connector.connection_cext.CMySQLConnection object at 0x00000145C1EF9FD0>\n"
     ]
    }
   ],
   "source": [
    "mydb = mysql.connector.connect(\n",
    "  host=\"localhost\",\n",
    "  user=\"root\",\n",
    "  password='***********' \n",
    ")\n",
    "print(mydb)"
   ]
  },
  {
   "cell_type": "markdown",
   "id": "4f88a162",
   "metadata": {},
   "source": [
    "## Create Database"
   ]
  },
  {
   "cell_type": "code",
   "execution_count": 3,
   "id": "b5260864",
   "metadata": {},
   "outputs": [],
   "source": [
    "mycursor=mydb.cursor()\n",
    "mycursor.execute(\"CREATE DATABASE world_debt_statistic\")"
   ]
  },
  {
   "cell_type": "code",
   "execution_count": 4,
   "id": "80e204df",
   "metadata": {},
   "outputs": [
    {
     "name": "stdout",
     "output_type": "stream",
     "text": [
      "('information_schema',)\n",
      "('mysql',)\n",
      "('performance_schema',)\n",
      "('sys',)\n",
      "('world_debt_statistic',)\n",
      "('world_debt_statistics',)\n",
      "('world_debts',)\n"
     ]
    }
   ],
   "source": [
    "# check databases\n",
    "mycursor.execute(\"SHOW DATABASES\")\n",
    "\n",
    "for x in mycursor:\n",
    "  print(x)"
   ]
  },
  {
   "cell_type": "markdown",
   "id": "9acd1269",
   "metadata": {},
   "source": [
    "## Create Table"
   ]
  },
  {
   "cell_type": "code",
   "execution_count": 5,
   "id": "81ed3fbc",
   "metadata": {},
   "outputs": [],
   "source": [
    "# first  connect to our database world_debt_statistics\n",
    "mydb = mysql.connector.connect(\n",
    "  host=\"localhost\",\n",
    "  user=\"root\",\n",
    "  password=\"***********\",\n",
    "  database=\"world_debt_statistic\"\n",
    ")\n",
    "mycursor=mydb.cursor(buffered=True)\n",
    "mycursor.execute(\n",
    "    \"\"\"CREATE TABLE IF NOT EXISTS country_debts(\n",
    "     country_name VARCHAR(70) NOT NULL,\n",
    "     country_code CHAR(3) NOT NULL,\n",
    "     indicator_name VARCHAR(200) NOT NULL,\n",
    "     indicator_code VARCHAR(70) NOT NULL,\n",
    "     debt DECIMAL(20,6) NOT NULL\n",
    " )\"\"\")"
   ]
  },
  {
   "cell_type": "markdown",
   "id": "f152542a",
   "metadata": {},
   "source": [
    "## Loading CSV data and inserting into our table"
   ]
  },
  {
   "cell_type": "code",
   "execution_count": 6,
   "id": "77857f25",
   "metadata": {},
   "outputs": [
    {
     "data": {
      "text/html": [
       "<div>\n",
       "<style scoped>\n",
       "    .dataframe tbody tr th:only-of-type {\n",
       "        vertical-align: middle;\n",
       "    }\n",
       "\n",
       "    .dataframe tbody tr th {\n",
       "        vertical-align: top;\n",
       "    }\n",
       "\n",
       "    .dataframe thead th {\n",
       "        text-align: right;\n",
       "    }\n",
       "</style>\n",
       "<table border=\"1\" class=\"dataframe\">\n",
       "  <thead>\n",
       "    <tr style=\"text-align: right;\">\n",
       "      <th></th>\n",
       "      <th>country_name</th>\n",
       "      <th>country_code</th>\n",
       "      <th>indicator_name</th>\n",
       "      <th>indicator_code</th>\n",
       "      <th>debt</th>\n",
       "    </tr>\n",
       "  </thead>\n",
       "  <tbody>\n",
       "    <tr>\n",
       "      <th>0</th>\n",
       "      <td>Afghanistan</td>\n",
       "      <td>AFG</td>\n",
       "      <td>Disbursements on external debt, long-term (DIS...</td>\n",
       "      <td>DT.DIS.DLXF.CD</td>\n",
       "      <td>72894453.7</td>\n",
       "    </tr>\n",
       "    <tr>\n",
       "      <th>1</th>\n",
       "      <td>Afghanistan</td>\n",
       "      <td>AFG</td>\n",
       "      <td>Interest payments on external debt, long-term ...</td>\n",
       "      <td>DT.INT.DLXF.CD</td>\n",
       "      <td>53239440.1</td>\n",
       "    </tr>\n",
       "    <tr>\n",
       "      <th>2</th>\n",
       "      <td>Afghanistan</td>\n",
       "      <td>AFG</td>\n",
       "      <td>PPG, bilateral (AMT, current US$)</td>\n",
       "      <td>DT.AMT.BLAT.CD</td>\n",
       "      <td>61739336.9</td>\n",
       "    </tr>\n",
       "    <tr>\n",
       "      <th>3</th>\n",
       "      <td>Afghanistan</td>\n",
       "      <td>AFG</td>\n",
       "      <td>PPG, bilateral (DIS, current US$)</td>\n",
       "      <td>DT.DIS.BLAT.CD</td>\n",
       "      <td>49114729.4</td>\n",
       "    </tr>\n",
       "    <tr>\n",
       "      <th>4</th>\n",
       "      <td>Afghanistan</td>\n",
       "      <td>AFG</td>\n",
       "      <td>PPG, bilateral (INT, current US$)</td>\n",
       "      <td>DT.INT.BLAT.CD</td>\n",
       "      <td>39903620.1</td>\n",
       "    </tr>\n",
       "  </tbody>\n",
       "</table>\n",
       "</div>"
      ],
      "text/plain": [
       "  country_name country_code  \\\n",
       "0  Afghanistan          AFG   \n",
       "1  Afghanistan          AFG   \n",
       "2  Afghanistan          AFG   \n",
       "3  Afghanistan          AFG   \n",
       "4  Afghanistan          AFG   \n",
       "\n",
       "                                      indicator_name  indicator_code  \\\n",
       "0  Disbursements on external debt, long-term (DIS...  DT.DIS.DLXF.CD   \n",
       "1  Interest payments on external debt, long-term ...  DT.INT.DLXF.CD   \n",
       "2                  PPG, bilateral (AMT, current US$)  DT.AMT.BLAT.CD   \n",
       "3                  PPG, bilateral (DIS, current US$)  DT.DIS.BLAT.CD   \n",
       "4                  PPG, bilateral (INT, current US$)  DT.INT.BLAT.CD   \n",
       "\n",
       "         debt  \n",
       "0  72894453.7  \n",
       "1  53239440.1  \n",
       "2  61739336.9  \n",
       "3  49114729.4  \n",
       "4  39903620.1  "
      ]
     },
     "execution_count": 6,
     "metadata": {},
     "output_type": "execute_result"
    }
   ],
   "source": [
    "data=pd.read_csv(r'C:\\Users\\Hp\\Downloads\\International_debt dataset.csv')\n",
    "data.head()"
   ]
  },
  {
   "cell_type": "code",
   "execution_count": 7,
   "id": "06290c60",
   "metadata": {},
   "outputs": [],
   "source": [
    "# Insert Data to Table\n",
    "for i,row in data.iterrows():\n",
    "            sql = \"INSERT INTO country_debts VALUES (%s,%s,%s,%s,%s)\"\n",
    "            mycursor.execute(sql, tuple(row))\n",
    "            # the connection is not autocommitted by default, so we  must commit to save our changes\n",
    "            mydb.commit()\n"
   ]
  },
  {
   "cell_type": "markdown",
   "id": "dab2f2ba",
   "metadata": {},
   "source": [
    "##  Query the database to check if records have been inserted"
   ]
  },
  {
   "cell_type": "code",
   "execution_count": 8,
   "id": "6456fedb",
   "metadata": {},
   "outputs": [
    {
     "name": "stdout",
     "output_type": "stream",
     "text": [
      "('Afghanistan', 'AFG', 'Disbursements on external debt, long-term (DIS, current US$)', 'DT.DIS.DLXF.CD', Decimal('72894453.700000'))\n",
      "('Afghanistan', 'AFG', 'Interest payments on external debt, long-term (INT, current US$)', 'DT.INT.DLXF.CD', Decimal('53239440.100000'))\n",
      "('Afghanistan', 'AFG', 'PPG, bilateral (AMT, current US$)', 'DT.AMT.BLAT.CD', Decimal('61739336.900000'))\n",
      "('Afghanistan', 'AFG', 'PPG, bilateral (DIS, current US$)', 'DT.DIS.BLAT.CD', Decimal('49114729.400000'))\n",
      "('Afghanistan', 'AFG', 'PPG, bilateral (INT, current US$)', 'DT.INT.BLAT.CD', Decimal('39903620.100000'))\n",
      "('Afghanistan', 'AFG', 'PPG, multilateral (AMT, current US$)', 'DT.AMT.MLAT.CD', Decimal('39107845.000000'))\n",
      "('Afghanistan', 'AFG', 'PPG, multilateral (DIS, current US$)', 'DT.DIS.MLAT.CD', Decimal('23779724.300000'))\n",
      "('Afghanistan', 'AFG', 'PPG, multilateral (INT, current US$)', 'DT.INT.MLAT.CD', Decimal('13335820.000000'))\n",
      "('Afghanistan', 'AFG', 'PPG, official creditors (AMT, current US$)', 'DT.AMT.OFFT.CD', Decimal('100847181.900000'))\n",
      "('Afghanistan', 'AFG', 'PPG, official creditors (DIS, current US$)', 'DT.DIS.OFFT.CD', Decimal('72894453.700000'))\n"
     ]
    }
   ],
   "source": [
    "mycursor.execute(\"SELECT * FROM country_debts LIMIT 10\")\n",
    "results=mycursor.fetchall()\n",
    "for result in results:\n",
    "    print(result)"
   ]
  },
  {
   "cell_type": "markdown",
   "id": "76ce5070",
   "metadata": {},
   "source": [
    "## Determining the number of distinct countries in the dataset"
   ]
  },
  {
   "cell_type": "code",
   "execution_count": 13,
   "id": "7c7a44a8",
   "metadata": {},
   "outputs": [
    {
     "name": "stdout",
     "output_type": "stream",
     "text": [
      "(124,)\n"
     ]
    }
   ],
   "source": [
    "query='SELECT COUNT(DISTINCT(country_name)) FROM country_debts '\n",
    "mycursor.execute(query)\n",
    "results=mycursor.fetchone()\n",
    "print(results)"
   ]
  },
  {
   "cell_type": "markdown",
   "id": "d13deea4",
   "metadata": {},
   "source": [
    "## Identifying the distinct debt indicators present in the dataset."
   ]
  },
  {
   "cell_type": "code",
   "execution_count": 78,
   "id": "b04ed539",
   "metadata": {},
   "outputs": [
    {
     "name": "stdout",
     "output_type": "stream",
     "text": [
      "Disbursements on external debt, long-term (DIS, current US$)\n",
      "Interest payments on external debt, long-term (INT, current US$)\n",
      "PPG, bilateral (AMT, current US$)\n",
      "PPG, bilateral (DIS, current US$)\n",
      "PPG, bilateral (INT, current US$)\n",
      "PPG, multilateral (AMT, current US$)\n",
      "PPG, multilateral (DIS, current US$)\n",
      "PPG, multilateral (INT, current US$)\n",
      "PPG, official creditors (AMT, current US$)\n",
      "PPG, official creditors (DIS, current US$)\n",
      "PPG, official creditors (INT, current US$)\n",
      "Principal repayments on external debt, long-term (AMT, current US$)\n",
      "Interest payments on external debt, private nonguaranteed (PNG) (INT, current US$)\n",
      "PPG, bonds (AMT, current US$)\n",
      "PPG, bonds (INT, current US$)\n",
      "PPG, commercial banks (AMT, current US$)\n",
      "PPG, commercial banks (DIS, current US$)\n",
      "PPG, commercial banks (INT, current US$)\n",
      "PPG, other private creditors (AMT, current US$)\n",
      "PPG, other private creditors (DIS, current US$)\n",
      "PPG, other private creditors (INT, current US$)\n",
      "PPG, private creditors (AMT, current US$)\n",
      "PPG, private creditors (DIS, current US$)\n",
      "PPG, private creditors (INT, current US$)\n",
      "Principal repayments on external debt, private nonguaranteed (PNG) (AMT, current US$)\n"
     ]
    }
   ],
   "source": [
    "query='SELECT DISTINCT indicator_name FROM  country_debts'\n",
    "mycursor.execute(query)\n",
    "results=mycursor.fetchall()\n",
    "for result in results:\n",
    "    print(result[0])"
   ]
  },
  {
   "cell_type": "markdown",
   "id": "4a1109d4",
   "metadata": {},
   "source": [
    "## Calculating the total amount of debt owed by the countries."
   ]
  },
  {
   "cell_type": "code",
   "execution_count": 32,
   "id": "0e15212e",
   "metadata": {},
   "outputs": [
    {
     "name": "stdout",
     "output_type": "stream",
     "text": [
      "3079734487676\n"
     ]
    }
   ],
   "source": [
    "query='SELECT ROUND(SUM(debt),0) FROM country_debts'\n",
    "mycursor.execute(query)\n",
    "results=mycursor.fetchone()\n",
    "print(results[0])"
   ]
  },
  {
   "cell_type": "markdown",
   "id": "6539a609",
   "metadata": {},
   "source": [
    "## Identifying the top 10 countries with the highest debt"
   ]
  },
  {
   "cell_type": "code",
   "execution_count": 40,
   "id": "61363af6",
   "metadata": {},
   "outputs": [
    {
     "data": {
      "text/plain": [
       "Text(0.5, 1.0, 'Top Indebted Countries')"
      ]
     },
     "execution_count": 40,
     "metadata": {},
     "output_type": "execute_result"
    },
    {
     "data": {
      "image/png": "[encoded data removed]",
      "text/plain": [
       "<Figure size 640x480 with 1 Axes>"
      ]
     },
     "metadata": {},
     "output_type": "display_data"
    }
   ],
   "source": [
    "query='''SELECT country_name,ROUND(SUM(debt),0) AS debt FROM country_debts \n",
    "GROUP BY country_name ORDER BY debt DESC LIMIT 10'''\n",
    "mycursor.execute(query)\n",
    "results=mycursor.fetchall()\n",
    "res=[(result[0],float(result[1])) for result in results]\n",
    "df=pd.DataFrame(res, columns=['COUNTRY','TOTAL DEBT'])\n",
    "ax=df.plot.bar(x='COUNTRY',y='TOTAL DEBT')\n",
    "plt.ticklabel_format(style='plain',axis='y')\n",
    "plt.title(\"Top Indebted Countries\")"
   ]
  },
  {
   "cell_type": "markdown",
   "id": "e71d3187",
   "metadata": {},
   "source": [
    "## Identifying the least indebted Countries"
   ]
  },
  {
   "cell_type": "code",
   "execution_count": 46,
   "id": "3c753c86",
   "metadata": {},
   "outputs": [
    {
     "data": {
      "text/plain": [
       "Text(0.5, 1.0, 'least Indebted Countries')"
      ]
     },
     "execution_count": 46,
     "metadata": {},
     "output_type": "execute_result"
    },
    {
     "data": {
      "image/png": "[encoded data removed]",
      "text/plain": [
       "<Figure size 640x480 with 1 Axes>"
      ]
     },
     "metadata": {},
     "output_type": "display_data"
    }
   ],
   "source": [
    "query='''SELECT country_name,ROUND(SUM(debt),0) AS debt FROM \n",
    "country_debts GROUP BY country_name ORDER BY debt  LIMIT 10'''\n",
    "mycursor.execute(query)\n",
    "results=mycursor.fetchall()\n",
    "res=[(result[0],float(result[1])) for result in results]\n",
    "df=pd.DataFrame(res, columns=['COUNTRY','TOTAL DEBT'])\n",
    "df.plot.bar(x='COUNTRY',y='TOTAL DEBT')\n",
    "plt.ticklabel_format(style='plain',axis='y')\n",
    "plt.title(\"least Indebted Countries\")"
   ]
  },
  {
   "cell_type": "markdown",
   "id": "e33d3c07",
   "metadata": {},
   "source": [
    "## Calculating the average amount of debt across different debt indicators"
   ]
  },
  {
   "cell_type": "code",
   "execution_count": 75,
   "id": "af54deea",
   "metadata": {},
   "outputs": [
    {
     "data": {
      "text/html": [
       "<div>\n",
       "<style scoped>\n",
       "    .dataframe tbody tr th:only-of-type {\n",
       "        vertical-align: middle;\n",
       "    }\n",
       "\n",
       "    .dataframe tbody tr th {\n",
       "        vertical-align: top;\n",
       "    }\n",
       "\n",
       "    .dataframe thead th {\n",
       "        text-align: right;\n",
       "    }\n",
       "</style>\n",
       "<table border=\"1\" class=\"dataframe\">\n",
       "  <thead>\n",
       "    <tr style=\"text-align: right;\">\n",
       "      <th></th>\n",
       "      <th>CODE</th>\n",
       "      <th>INDICATOR</th>\n",
       "      <th>AVERAGE DEBT</th>\n",
       "    </tr>\n",
       "  </thead>\n",
       "  <tbody>\n",
       "    <tr>\n",
       "      <th>0</th>\n",
       "      <td>DT.AMT.DLXF.CD</td>\n",
       "      <td>Principal repayments on external debt, long-te...</td>\n",
       "      <td>5904868401</td>\n",
       "    </tr>\n",
       "    <tr>\n",
       "      <th>1</th>\n",
       "      <td>DT.AMT.DPNG.CD</td>\n",
       "      <td>Principal repayments on external debt, private...</td>\n",
       "      <td>5161194334</td>\n",
       "    </tr>\n",
       "    <tr>\n",
       "      <th>2</th>\n",
       "      <td>DT.DIS.DLXF.CD</td>\n",
       "      <td>Disbursements on external debt, long-term (DIS...</td>\n",
       "      <td>2152041217</td>\n",
       "    </tr>\n",
       "    <tr>\n",
       "      <th>3</th>\n",
       "      <td>DT.DIS.OFFT.CD</td>\n",
       "      <td>PPG, official creditors (DIS, current US$)</td>\n",
       "      <td>1958983453</td>\n",
       "    </tr>\n",
       "    <tr>\n",
       "      <th>4</th>\n",
       "      <td>DT.AMT.PRVT.CD</td>\n",
       "      <td>PPG, private creditors (AMT, current US$)</td>\n",
       "      <td>1803694102</td>\n",
       "    </tr>\n",
       "    <tr>\n",
       "      <th>5</th>\n",
       "      <td>DT.INT.DLXF.CD</td>\n",
       "      <td>Interest payments on external debt, long-term ...</td>\n",
       "      <td>1644024068</td>\n",
       "    </tr>\n",
       "    <tr>\n",
       "      <th>6</th>\n",
       "      <td>DT.DIS.BLAT.CD</td>\n",
       "      <td>PPG, bilateral (DIS, current US$)</td>\n",
       "      <td>1223139290</td>\n",
       "    </tr>\n",
       "    <tr>\n",
       "      <th>7</th>\n",
       "      <td>DT.INT.DPNG.CD</td>\n",
       "      <td>Interest payments on external debt, private no...</td>\n",
       "      <td>1220410844</td>\n",
       "    </tr>\n",
       "    <tr>\n",
       "      <th>8</th>\n",
       "      <td>DT.AMT.OFFT.CD</td>\n",
       "      <td>PPG, official creditors (AMT, current US$)</td>\n",
       "      <td>1191187963</td>\n",
       "    </tr>\n",
       "    <tr>\n",
       "      <th>9</th>\n",
       "      <td>DT.AMT.PBND.CD</td>\n",
       "      <td>PPG, bonds (AMT, current US$)</td>\n",
       "      <td>1082623948</td>\n",
       "    </tr>\n",
       "    <tr>\n",
       "      <th>10</th>\n",
       "      <td>DT.DIS.MLAT.CD</td>\n",
       "      <td>PPG, multilateral (DIS, current US$)</td>\n",
       "      <td>839843679</td>\n",
       "    </tr>\n",
       "    <tr>\n",
       "      <th>11</th>\n",
       "      <td>DT.INT.PBND.CD</td>\n",
       "      <td>PPG, bonds (INT, current US$)</td>\n",
       "      <td>804733377</td>\n",
       "    </tr>\n",
       "    <tr>\n",
       "      <th>12</th>\n",
       "      <td>DT.AMT.PROP.CD</td>\n",
       "      <td>PPG, other private creditors (AMT, current US$)</td>\n",
       "      <td>746888800</td>\n",
       "    </tr>\n",
       "    <tr>\n",
       "      <th>13</th>\n",
       "      <td>DT.AMT.PCBK.CD</td>\n",
       "      <td>PPG, commercial banks (AMT, current US$)</td>\n",
       "      <td>734868743</td>\n",
       "    </tr>\n",
       "    <tr>\n",
       "      <th>14</th>\n",
       "      <td>DT.INT.PRVT.CD</td>\n",
       "      <td>PPG, private creditors (INT, current US$)</td>\n",
       "      <td>719740180</td>\n",
       "    </tr>\n",
       "    <tr>\n",
       "      <th>15</th>\n",
       "      <td>DT.AMT.BLAT.CD</td>\n",
       "      <td>PPG, bilateral (AMT, current US$)</td>\n",
       "      <td>712619635</td>\n",
       "    </tr>\n",
       "    <tr>\n",
       "      <th>16</th>\n",
       "      <td>DT.AMT.MLAT.CD</td>\n",
       "      <td>PPG, multilateral (AMT, current US$)</td>\n",
       "      <td>490062193</td>\n",
       "    </tr>\n",
       "    <tr>\n",
       "      <th>17</th>\n",
       "      <td>DT.DIS.PRVT.CD</td>\n",
       "      <td>PPG, private creditors (DIS, current US$)</td>\n",
       "      <td>311323265</td>\n",
       "    </tr>\n",
       "    <tr>\n",
       "      <th>18</th>\n",
       "      <td>DT.INT.OFFT.CD</td>\n",
       "      <td>PPG, official creditors (INT, current US$)</td>\n",
       "      <td>297677339</td>\n",
       "    </tr>\n",
       "    <tr>\n",
       "      <th>19</th>\n",
       "      <td>DT.DIS.PCBK.CD</td>\n",
       "      <td>PPG, commercial banks (DIS, current US$)</td>\n",
       "      <td>293305196</td>\n",
       "    </tr>\n",
       "    <tr>\n",
       "      <th>20</th>\n",
       "      <td>DT.INT.BLAT.CD</td>\n",
       "      <td>PPG, bilateral (INT, current US$)</td>\n",
       "      <td>164093286</td>\n",
       "    </tr>\n",
       "    <tr>\n",
       "      <th>21</th>\n",
       "      <td>DT.INT.PCBK.CD</td>\n",
       "      <td>PPG, commercial banks (INT, current US$)</td>\n",
       "      <td>156647613</td>\n",
       "    </tr>\n",
       "    <tr>\n",
       "      <th>22</th>\n",
       "      <td>DT.INT.MLAT.CD</td>\n",
       "      <td>PPG, multilateral (INT, current US$)</td>\n",
       "      <td>136230719</td>\n",
       "    </tr>\n",
       "    <tr>\n",
       "      <th>23</th>\n",
       "      <td>DT.DIS.PROP.CD</td>\n",
       "      <td>PPG, other private creditors (DIS, current US$)</td>\n",
       "      <td>81135161</td>\n",
       "    </tr>\n",
       "    <tr>\n",
       "      <th>24</th>\n",
       "      <td>DT.INT.PROP.CD</td>\n",
       "      <td>PPG, other private creditors (INT, current US$)</td>\n",
       "      <td>34250651</td>\n",
       "    </tr>\n",
       "  </tbody>\n",
       "</table>\n",
       "</div>"
      ],
      "text/plain": [
       "              CODE                                          INDICATOR  \\\n",
       "0   DT.AMT.DLXF.CD  Principal repayments on external debt, long-te...   \n",
       "1   DT.AMT.DPNG.CD  Principal repayments on external debt, private...   \n",
       "2   DT.DIS.DLXF.CD  Disbursements on external debt, long-term (DIS...   \n",
       "3   DT.DIS.OFFT.CD         PPG, official creditors (DIS, current US$)   \n",
       "4   DT.AMT.PRVT.CD          PPG, private creditors (AMT, current US$)   \n",
       "5   DT.INT.DLXF.CD  Interest payments on external debt, long-term ...   \n",
       "6   DT.DIS.BLAT.CD                  PPG, bilateral (DIS, current US$)   \n",
       "7   DT.INT.DPNG.CD  Interest payments on external debt, private no...   \n",
       "8   DT.AMT.OFFT.CD         PPG, official creditors (AMT, current US$)   \n",
       "9   DT.AMT.PBND.CD                      PPG, bonds (AMT, current US$)   \n",
       "10  DT.DIS.MLAT.CD               PPG, multilateral (DIS, current US$)   \n",
       "11  DT.INT.PBND.CD                      PPG, bonds (INT, current US$)   \n",
       "12  DT.AMT.PROP.CD    PPG, other private creditors (AMT, current US$)   \n",
       "13  DT.AMT.PCBK.CD           PPG, commercial banks (AMT, current US$)   \n",
       "14  DT.INT.PRVT.CD          PPG, private creditors (INT, current US$)   \n",
       "15  DT.AMT.BLAT.CD                  PPG, bilateral (AMT, current US$)   \n",
       "16  DT.AMT.MLAT.CD               PPG, multilateral (AMT, current US$)   \n",
       "17  DT.DIS.PRVT.CD          PPG, private creditors (DIS, current US$)   \n",
       "18  DT.INT.OFFT.CD         PPG, official creditors (INT, current US$)   \n",
       "19  DT.DIS.PCBK.CD           PPG, commercial banks (DIS, current US$)   \n",
       "20  DT.INT.BLAT.CD                  PPG, bilateral (INT, current US$)   \n",
       "21  DT.INT.PCBK.CD           PPG, commercial banks (INT, current US$)   \n",
       "22  DT.INT.MLAT.CD               PPG, multilateral (INT, current US$)   \n",
       "23  DT.DIS.PROP.CD    PPG, other private creditors (DIS, current US$)   \n",
       "24  DT.INT.PROP.CD    PPG, other private creditors (INT, current US$)   \n",
       "\n",
       "    AVERAGE DEBT  \n",
       "0     5904868401  \n",
       "1     5161194334  \n",
       "2     2152041217  \n",
       "3     1958983453  \n",
       "4     1803694102  \n",
       "5     1644024068  \n",
       "6     1223139290  \n",
       "7     1220410844  \n",
       "8     1191187963  \n",
       "9     1082623948  \n",
       "10     839843679  \n",
       "11     804733377  \n",
       "12     746888800  \n",
       "13     734868743  \n",
       "14     719740180  \n",
       "15     712619635  \n",
       "16     490062193  \n",
       "17     311323265  \n",
       "18     297677339  \n",
       "19     293305196  \n",
       "20     164093286  \n",
       "21     156647613  \n",
       "22     136230719  \n",
       "23      81135161  \n",
       "24      34250651  "
      ]
     },
     "execution_count": 75,
     "metadata": {},
     "output_type": "execute_result"
    }
   ],
   "source": [
    "query='''SELECT indicator_code,indicator_name,ROUND(AVG(debt),0) AS `AVERAGE DEBT`  FROM\n",
    "country_debts GROUP BY indicator_code, indicator_name'''\n",
    "mycursor.execute(query)\n",
    "results=mycursor.fetchall()\n",
    "res=[(result[0],result[1],float(result[2])) for result in results]\n",
    "df=pd.DataFrame(res,columns=['CODE','INDICATOR','AVERAGE DEBT'])\n",
    "df=df.sort_values(by='AVERAGE DEBT',ascending=False).reset_index(drop=True)\n",
    "pd.options.display.float_format = '{:.0f}'.format\n",
    "df"
   ]
  },
  {
   "cell_type": "markdown",
   "id": "8a5facc9",
   "metadata": {},
   "source": [
    "## Determining the highest amount of principal repayments recorded"
   ]
  },
  {
   "cell_type": "code",
   "execution_count": 72,
   "id": "0ede31f9",
   "metadata": {},
   "outputs": [
    {
     "name": "stdout",
     "output_type": "stream",
     "text": [
      "China DT.AMT.DLXF.CD 96218620835.7\n"
     ]
    }
   ],
   "source": [
    "query='''\n",
    "SELECT country_name,indicator_code,debt FROM country_debts WHERE (indicator_code='DT.AMT.DLXF.CD'\n",
    "OR indicator_code='DT.AMT.DPNG.CD')\n",
    "ORDER BY debt DESC\n",
    "LIMIT 1\n",
    "'''\n",
    "mycursor.execute(query)\n",
    "results=mycursor.fetchone()\n",
    "print(results[0],results[1],float(results[2]))"
   ]
  },
  {
   "cell_type": "markdown",
   "id": "fa06a8bc",
   "metadata": {},
   "source": [
    "## Identifying the most common debt indicator."
   ]
  },
  {
   "cell_type": "code",
   "execution_count": 83,
   "id": "9ee45892",
   "metadata": {},
   "outputs": [
    {
     "name": "stdout",
     "output_type": "stream",
     "text": [
      "DT.INT.DLXF.CD 124\n",
      "DT.AMT.DLXF.CD 124\n",
      "DT.AMT.MLAT.CD 124\n",
      "DT.INT.MLAT.CD 124\n",
      "DT.AMT.OFFT.CD 124\n",
      "DT.INT.OFFT.CD 124\n",
      "DT.DIS.DLXF.CD 123\n",
      "DT.AMT.BLAT.CD 122\n",
      "DT.INT.BLAT.CD 122\n",
      "DT.DIS.OFFT.CD 122\n"
     ]
    }
   ],
   "source": [
    "query='''SELECT indicator_code,COUNT(indicator_code) AS COUNT  FROM country_debts \n",
    "GROUP BY indicator_code ORDER BY COUNT DESC LIMIT 10'''\n",
    "mycursor.execute(query)\n",
    "results=mycursor.fetchall()\n",
    "for result in results:\n",
    "    print(result[0],result[1])"
   ]
  },
  {
   "cell_type": "code",
   "execution_count": 87,
   "id": "2bca886c",
   "metadata": {},
   "outputs": [
    {
     "name": "stderr",
     "output_type": "stream",
     "text": [
      "[NbConvertApp] Converting notebook International_debt_statistic.ipynb to webpdf\n",
      "[NbConvertApp] Building PDF\n",
      "[NbConvertApp] PDF successfully created\n",
      "[NbConvertApp] Writing 243476 bytes to International_debt_statistic.pdf\n"
     ]
    }
   ],
   "source": [
    "!jupyter nbconvert --to webpdf --allow-chromium-download International_debt_statistic.ipynb"
   ]
  },
  {
   "cell_type": "code",
   "execution_count": null,
   "id": "d0ea5f7f",
   "metadata": {},
   "outputs": [],
   "source": []
  }
 ],
 "metadata": {
  "kernelspec": {
   "display_name": "Python 3 (ipykernel)",
   "language": "python",
   "name": "python3"
  },
  "language_info": {
   "codemirror_mode": {
    "name": "ipython",
    "version": 3
   },
   "file_extension": ".py",
   "mimetype": "text/x-python",
   "name": "python",
   "nbconvert_exporter": "python",
   "pygments_lexer": "ipython3",
   "version": "3.11.2"
  }
 },
 "nbformat": 4,
 "nbformat_minor": 5
}
